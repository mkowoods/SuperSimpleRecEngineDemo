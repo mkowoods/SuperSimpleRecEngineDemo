{
 "cells": [
  {
   "cell_type": "code",
   "execution_count": 124,
   "metadata": {
    "collapsed": true
   },
   "outputs": [],
   "source": [
    "from sklearn.linear_model import LinearRegression, LogisticRegression\n",
    "import json\n",
    "import os\n",
    "from collections import Counter\n",
    "import numpy as np\n",
    "\n",
    "#local library\n",
    "import config\n"
   ]
  },
  {
   "cell_type": "code",
   "execution_count": 4,
   "metadata": {
    "collapsed": true
   },
   "outputs": [],
   "source": [
    "movies_data = json.load(open(os.path.join(config.BASE_DIR, 'data', 'movies.json'), 'rb'))\n",
    "ratings_data = json.load(open(os.path.join(config.BASE_DIR, 'data', 'ratings.json'), 'rb'))"
   ]
  },
  {
   "cell_type": "code",
   "execution_count": 7,
   "metadata": {
    "collapsed": true
   },
   "outputs": [],
   "source": [
    "NUM_USERS = len(ratings_data)\n",
    "NUM_MOVIES = len(movies_data)\n",
    "\n",
    "#normalize each movie ID to a value between 0 and NUM_MOVIES - 1\n",
    "MOVIE_TO_IDX_LOOKUP = dict(zip(map(int, movies_data.keys()), range(NUM_MOVIES)))\n",
    "IDX_TO_MOVIE_LOOKUP = dict([(v, k) for k,v in MOVIE_TO_IDX_LOOKUP.items()])"
   ]
  },
  {
   "cell_type": "code",
   "execution_count": 5,
   "metadata": {
    "collapsed": true
   },
   "outputs": [],
   "source": [
    "#create genre vectors for each Movie"
   ]
  },
  {
   "cell_type": "code",
   "execution_count": 8,
   "metadata": {},
   "outputs": [
    {
     "data": {
      "text/plain": [
       "{u'(no genres listed)': 14,\n",
       " u'Action': 13,\n",
       " u'Adventure': 19,\n",
       " u'Animation': 10,\n",
       " u'Children': 17,\n",
       " u'Comedy': 15,\n",
       " u'Crime': 6,\n",
       " u'Documentary': 16,\n",
       " u'Drama': 7,\n",
       " u'Fantasy': 8,\n",
       " u'Film-Noir': 5,\n",
       " u'Horror': 4,\n",
       " u'IMAX': 12,\n",
       " u'Musical': 9,\n",
       " u'Mystery': 0,\n",
       " u'Romance': 1,\n",
       " u'Sci-Fi': 3,\n",
       " u'Thriller': 18,\n",
       " u'War': 11,\n",
       " u'Western': 2}"
      ]
     },
     "execution_count": 8,
     "metadata": {},
     "output_type": "execute_result"
    }
   ],
   "source": [
    "genre_set = set([])\n",
    "\n",
    "for m_data in movies_data.values():\n",
    "    for g in m_data['genres']:\n",
    "        genre_set.add(g)\n",
    "        \n",
    "genre_dict = dict([(val, idx) for idx, val in enumerate(genre_set)])\n",
    "genre_dict"
   ]
  },
  {
   "cell_type": "code",
   "execution_count": 9,
   "metadata": {
    "collapsed": true
   },
   "outputs": [],
   "source": [
    "NUM_GENRES = len(genre_dict)"
   ]
  },
  {
   "cell_type": "code",
   "execution_count": 92,
   "metadata": {
    "collapsed": true
   },
   "outputs": [],
   "source": [
    "genre_matrix = np.zeros((NUM_MOVIES, NUM_GENRES))"
   ]
  },
  {
   "cell_type": "code",
   "execution_count": 93,
   "metadata": {
    "collapsed": true
   },
   "outputs": [],
   "source": [
    "for m_data in movies_data.values():\n",
    "    movie_row_idx = MOVIE_TO_IDX_LOOKUP[m_data['movieId']]\n",
    "    for g in m_data['genres']:\n",
    "        genre_matrix[movie_row_idx, genre_dict[g]] = 1"
   ]
  },
  {
   "cell_type": "code",
   "execution_count": 94,
   "metadata": {},
   "outputs": [
    {
     "name": "stdout",
     "output_type": "stream",
     "text": [
      "matrix shape: (9125, 20)\n"
     ]
    }
   ],
   "source": [
    "print 'matrix shape:', genre_matrix.shape"
   ]
  },
  {
   "cell_type": "code",
   "execution_count": null,
   "metadata": {},
   "outputs": [],
   "source": []
  },
  {
   "cell_type": "code",
   "execution_count": 95,
   "metadata": {},
   "outputs": [
    {
     "name": "stdout",
     "output_type": "stream",
     "text": [
      "73469\n",
      "[ 0.  0.  0.  0.  0.  0.  0.  0.  0.  0.  0.  0.  0.  0.  0.  0.  1.  0.\n",
      "  0.  0.]\n",
      "genre idx for movie at zer\n"
     ]
    },
    {
     "data": {
      "text/plain": [
       "{u'genres': [u'Documentary'],\n",
       " u'movieId': 73469,\n",
       " u'title': u'Mr. Warmth: The Don Rickles Project (2007)'}"
      ]
     },
     "execution_count": 95,
     "metadata": {},
     "output_type": "execute_result"
    }
   ],
   "source": [
    "# look up Movie Zero in Vector and \n",
    "\n",
    "print IDX_TO_MOVIE_LOOKUP[0]\n",
    "print genre_matrix[0] #the vectors populated should match the genere's from genre_dict\n",
    "print 'genre idx for movie at zer'\n",
    "movies_data[\"73469\"]"
   ]
  },
  {
   "cell_type": "code",
   "execution_count": 141,
   "metadata": {},
   "outputs": [
    {
     "name": "stdout",
     "output_type": "stream",
     "text": [
      "User: 342 Num Ratings: 187\n"
     ]
    }
   ],
   "source": [
    "#now to create a model for each user...http://localhost:5000/user/342\n",
    "#strong interest in Crime, Drama \"Good Films\", biased towards high reviews (avg 4.12)\n",
    "\n",
    "user_id = 342\n",
    "\n",
    "user_ratings = ratings_data[str(user_id)]\n",
    "num_user_ratings = len(user_ratings)\n",
    "print 'User:', user_id, 'Num Ratings:', num_user_ratings\n",
    "\n",
    "user_movie_idx, ratings = np.zeros((num_user_ratings,)), np.zeros((num_user_ratings,))\n",
    "\n",
    "for idx, movie in enumerate(user_ratings):\n",
    "    movie_idx = MOVIE_TO_IDX_LOOKUP[movie['movieId']]\n",
    "    rating = movie['rating']\n",
    "    user_movie_idx[idx] = int(movie_idx)\n",
    "    ratings[idx] = rating\n",
    "\n",
    "#needs to be integer for lookup\n",
    "user_movie_idx = user_movie_idx.astype(int)\n",
    "#ratings = ratings - ratings.mean() data normalization step"
   ]
  },
  {
   "cell_type": "code",
   "execution_count": 142,
   "metadata": {
    "collapsed": true
   },
   "outputs": [],
   "source": [
    "train_cut_off = int(0.8*user_movie_idx.shape[0])\n",
    "\n",
    "user_movie_idx_train = user_movie_idx[:train_cut_off]\n",
    "user_movie_idx_test = user_movie_idx[train_cut_off:]"
   ]
  },
  {
   "cell_type": "code",
   "execution_count": 145,
   "metadata": {},
   "outputs": [],
   "source": [
    "X_train = genre_matrix[user_movie_idx_train]\n",
    "y_train = ratings[:train_cut_off]\n",
    "\n",
    "X_test = genre_matrix[user_movie_idx_test]\n",
    "y_test = ratings[train_cut_off:]"
   ]
  },
  {
   "cell_type": "code",
   "execution_count": 146,
   "metadata": {},
   "outputs": [],
   "source": [
    "lr = LinearRegression()"
   ]
  },
  {
   "cell_type": "code",
   "execution_count": 147,
   "metadata": {},
   "outputs": [
    {
     "data": {
      "text/plain": [
       "LinearRegression(copy_X=True, fit_intercept=True, n_jobs=1, normalize=False)"
      ]
     },
     "execution_count": 147,
     "metadata": {},
     "output_type": "execute_result"
    }
   ],
   "source": [
    "lr.fit(X = X_train, y = y_train)"
   ]
  },
  {
   "cell_type": "code",
   "execution_count": 148,
   "metadata": {},
   "outputs": [
    {
     "name": "stdout",
     "output_type": "stream",
     "text": [
      "[  4.39677619e-01   8.91430669e-03   1.67273166e-01  -2.87643639e-01\n",
      "  -1.64752717e-01  -4.11036012e-01   2.02605238e-01  -5.60865873e-02\n",
      "   2.70979216e-01  -1.00586197e-01   2.13798395e-01   2.78216100e-01\n",
      "   6.34338948e-01  -4.29967854e-01  -3.59054352e-15  -1.01741328e-01\n",
      "  -3.68024237e-02  -5.83934152e-01  -1.54191801e-01   5.16118827e-02]\n",
      "4.37013575705\n"
     ]
    }
   ],
   "source": [
    "print lr.coef_\n",
    "print lr.intercept_"
   ]
  },
  {
   "cell_type": "code",
   "execution_count": 149,
   "metadata": {},
   "outputs": [
    {
     "name": "stdout",
     "output_type": "stream",
     "text": [
      "IMAX 0.634338947543\n",
      "Mystery 0.43967761942\n",
      "War 0.278216099942\n",
      "Fantasy 0.270979215958\n",
      "Animation 0.21379839483\n",
      "Crime 0.202605238376\n",
      "Western 0.167273165524\n",
      "Adventure 0.0516118827287\n",
      "Romance 0.00891430669054\n",
      "(no genres listed) -3.59054352021e-15\n",
      "Documentary -0.0368024237117\n",
      "Drama -0.0560865873167\n",
      "Musical -0.100586196847\n",
      "Comedy -0.101741327837\n",
      "Thriller -0.154191800539\n",
      "Horror -0.164752717456\n",
      "Sci-Fi -0.287643639141\n",
      "Film-Noir -0.411036012236\n",
      "Action -0.429967854437\n",
      "Children -0.583934151875\n"
     ]
    }
   ],
   "source": [
    "genre_coefs = [(genre, lr.coef_[idx]) for genre, idx in genre_dict.items()]\n",
    "for genre, coef in sorted(genre_coefs, key = lambda x : -x[1]):\n",
    "    print genre, coef"
   ]
  },
  {
   "cell_type": "markdown",
   "metadata": {},
   "source": [
    "## Compared to User Based Filtering Results dont seem as good a fit to the users profile"
   ]
  },
  {
   "cell_type": "code",
   "execution_count": 152,
   "metadata": {},
   "outputs": [
    {
     "name": "stdout",
     "output_type": "stream",
     "text": [
      "{u'genres': [u'Adventure', u'Animation', u'Children', u'Comedy', u'Crime', u'Fantasy', u'Mystery'], u'movieId': 2987, u'title': u'Who Framed Roger Rabbit? (1988)'}\n",
      "4.86313262865 3.0\n",
      "{u'genres': [u'Drama', u'Mystery'], u'movieId': 3068, u'title': u'Verdict, The (1982)'}\n",
      "4.75372678915 4.0\n",
      "{u'genres': [u'Drama', u'Mystery', u'Romance', u'Thriller'], u'movieId': 2819, u'title': u'Three Days of the Condor (3 Days of the Condor) (1975)'}\n",
      "4.6084492953 4.0\n",
      "{u'genres': [u'Drama', u'Mystery', u'Thriller'], u'movieId': 2712, u'title': u'Eyes Wide Shut (1999)'}\n",
      "4.59953498861 4.0\n",
      "{u'genres': [u'Comedy', u'Drama', u'War'], u'movieId': 5060, u'title': u'M*A*S*H (a.k.a. MASH) (1970)'}\n",
      "4.49052394183 4.0\n",
      "{u'genres': [u'Drama', u'Fantasy', u'Musical'], u'movieId': 2971, u'title': u'All That Jazz (1979)'}\n",
      "4.48444218884 4.0\n",
      "{u'genres': [u'Comedy', u'Crime', u'Drama'], u'movieId': 2973, u'title': u'Crimes and Misdemeanors (1989)'}\n",
      "4.41491308027 4.0\n",
      "{u'genres': [u'Crime', u'Drama', u'Thriller'], u'movieId': 3169, u'title': u'The Falcon and the Snowman (1985)'}\n",
      "4.36246260757 2.0\n",
      "{u'genres': [u'Drama', u'Romance'], u'movieId': 2942, u'title': u'Flashdance (1983)'}\n",
      "4.32296347642 3.0\n",
      "{u'genres': [u'Drama', u'Romance'], u'movieId': 2906, u'title': u'Random Hearts (1999)'}\n",
      "4.32296347642 4.0\n",
      "{u'genres': [u'Drama'], u'movieId': 2739, u'title': u'Color Purple, The (1985)'}\n",
      "4.31404916973 4.0\n",
      "{u'genres': [u'Drama'], u'movieId': 3152, u'title': u'Last Picture Show, The (1971)'}\n",
      "4.31404916973 5.0\n",
      "{u'genres': [u'Drama'], u'movieId': 3141, u'title': u'Two Jakes, The (1990)'}\n",
      "4.31404916973 4.0\n",
      "{u'genres': [u'Drama'], u'movieId': 3135, u'title': u'Great Santini, The (1979)'}\n",
      "4.31404916973 4.0\n",
      "{u'genres': [u'Drama'], u'movieId': 3111, u'title': u'Places in the Heart (1984)'}\n",
      "4.31404916973 4.0\n",
      "{u'genres': [u'Drama'], u'movieId': 2988, u'title': u'Melvin and Howard (1980)'}\n",
      "4.31404916973 4.0\n",
      "{u'genres': [u'Drama'], u'movieId': 2501, u'title': u'October Sky (1999)'}\n",
      "4.31404916973 4.0\n",
      "{u'genres': [u'Drama'], u'movieId': 2866, u'title': u'Buddy Holly Story, The (1978)'}\n",
      "4.31404916973 4.0\n",
      "{u'genres': [u'Comedy', u'Romance'], u'movieId': 2671, u'title': u'Notting Hill (1999)'}\n",
      "4.2773087359 3.0\n",
      "{u'genres': [u'Comedy'], u'movieId': 2694, u'title': u'Big Daddy (1999)'}\n",
      "4.26839442921 3.0\n",
      "{u'genres': [u'Comedy'], u'movieId': 2918, u'title': u\"Ferris Bueller's Day Off (1986)\"}\n",
      "4.26839442921 4.0\n",
      "{u'genres': [u'Comedy'], u'movieId': 2779, u'title': u'Heaven Can Wait (1978)'}\n",
      "4.26839442921 4.0\n",
      "{u'genres': [u'Comedy'], u'movieId': 2791, u'title': u'Airplane! (1980)'}\n",
      "4.26839442921 5.0\n",
      "{u'genres': [u'Comedy'], u'movieId': 2795, u'title': u\"National Lampoon's Vacation (1983)\"}\n",
      "4.26839442921 4.0\n",
      "{u'genres': [u'Comedy'], u'movieId': 2539, u'title': u'Analyze This (1999)'}\n",
      "4.26839442921 4.0\n"
     ]
    }
   ],
   "source": [
    "preds_all_movies = lr.predict(X_test)\n",
    "for test_idx in np.argsort(-preds_all_movies)[:25]:\n",
    "    idx = user_movie_idx_test[test_idx]\n",
    "    movie_id = IDX_TO_MOVIE_LOOKUP[idx]\n",
    "    print movies_data[str(movie_id)]\n",
    "    print preds_all_movies[test_idx], y_test[test_idx]"
   ]
  },
  {
   "cell_type": "code",
   "execution_count": 159,
   "metadata": {},
   "outputs": [
    {
     "name": "stdout",
     "output_type": "stream",
     "text": [
      "avg score 0.872483221477\n",
      "\n",
      "Mystery 0.828678989114\n",
      "Fantasy 0.758664283701\n",
      "Musical 0.539288983304\n",
      "Horror 0.491428634312\n",
      "War 0.36904321696\n",
      "Western 0.35473903545\n",
      "Crime 0.346038802647\n",
      "Romance 0.29844210996\n",
      "Drama 0.224017280444\n",
      "Film-Noir 0.190754970604\n",
      "Animation 0.149970181577\n",
      "IMAX 0.130253978859\n",
      "(no genres listed) 0.0\n",
      "Children -0.176223746377\n",
      "Adventure -0.2166154618\n",
      "Thriller -0.342724628932\n",
      "Documentary -0.391764627531\n",
      "Sci-Fi -0.44706702059\n",
      "Action -0.455803205083\n",
      "Comedy -0.55135296112\n"
     ]
    }
   ],
   "source": [
    "lr2 = LogisticRegression()\n",
    "y_train2 = np.zeros_like(y_train)\n",
    "y_train2[y_train >= 4.0] = 1.0\n",
    "print 'avg score', y_train2.mean()\n",
    "print\n",
    "lr2.fit(X = X_train, y = y_train2)\n",
    "genre_coefs = [(genre, lr2.coef_[0, idx]) for genre, idx in genre_dict.items()]\n",
    "for genre, coef in sorted(genre_coefs, key = lambda x : -x[1]):\n",
    "    print genre, coef"
   ]
  },
  {
   "cell_type": "code",
   "execution_count": 162,
   "metadata": {
    "scrolled": true
   },
   "outputs": [
    {
     "name": "stdout",
     "output_type": "stream",
     "text": [
      "{u'genres': [u'Drama', u'Fantasy', u'Musical'], u'movieId': 2971, u'title': u'All That Jazz (1979)'}\n",
      "0.963840728298 4.0\n",
      "{u'genres': [u'Adventure', u'Animation', u'Children', u'Comedy', u'Crime', u'Fantasy', u'Mystery'], u'movieId': 2987, u'title': u'Who Framed Roger Rabbit? (1988)'}\n",
      "0.947855443344 3.0\n",
      "{u'genres': [u'Drama', u'Musical', u'Romance'], u'movieId': 2565, u'title': u'King and I, The (1956)'}\n",
      "0.943893967179 4.0\n",
      "{u'genres': [u'Drama', u'Mystery'], u'movieId': 3068, u'title': u'Verdict, The (1982)'}\n",
      "0.943412653812 4.0\n",
      "{u'genres': [u'Drama', u'Mystery', u'Romance', u'Thriller'], u'movieId': 2819, u'title': u'Three Days of the Condor (3 Days of the Condor) (1975)'}\n",
      "0.941001675234 4.0\n",
      "{u'genres': [u'Drama', u'Mystery', u'Thriller'], u'movieId': 2712, u'title': u'Eyes Wide Shut (1999)'}\n",
      "0.9220831923 4.0\n",
      "{u'genres': [u'Drama', u'Romance'], u'movieId': 2906, u'title': u'Random Hearts (1999)'}\n",
      "0.907499713613 4.0\n",
      "{u'genres': [u'Drama', u'Romance'], u'movieId': 2942, u'title': u'Flashdance (1983)'}\n",
      "0.907499713613 3.0\n",
      "{u'genres': [u'Crime', u'Drama', u'Thriller'], u'movieId': 3169, u'title': u'The Falcon and the Snowman (1985)'}\n",
      "0.879568844686 2.0\n",
      "{u'genres': [u'Drama'], u'movieId': 3152, u'title': u'Last Picture Show, The (1971)'}\n",
      "0.879217340721 5.0\n",
      "{u'genres': [u'Drama'], u'movieId': 3141, u'title': u'Two Jakes, The (1990)'}\n",
      "0.879217340721 4.0\n",
      "{u'genres': [u'Drama'], u'movieId': 3135, u'title': u'Great Santini, The (1979)'}\n",
      "0.879217340721 4.0\n",
      "{u'genres': [u'Drama'], u'movieId': 3111, u'title': u'Places in the Heart (1984)'}\n",
      "0.879217340721 4.0\n",
      "{u'genres': [u'Drama'], u'movieId': 2988, u'title': u'Melvin and Howard (1980)'}\n",
      "0.879217340721 4.0\n",
      "{u'genres': [u'Drama'], u'movieId': 2866, u'title': u'Buddy Holly Story, The (1978)'}\n",
      "0.879217340721 4.0\n",
      "{u'genres': [u'Drama'], u'movieId': 2501, u'title': u'October Sky (1999)'}\n",
      "0.879217340721 4.0\n",
      "{u'genres': [u'Drama'], u'movieId': 2739, u'title': u'Color Purple, The (1985)'}\n",
      "0.879217340721 4.0\n",
      "{u'genres': [u'Comedy', u'Drama', u'War'], u'movieId': 5060, u'title': u'M*A*S*H (a.k.a. MASH) (1970)'}\n",
      "0.858480889572 4.0\n",
      "{u'genres': [u'Comedy', u'Horror', u'Musical', u'Sci-Fi'], u'movieId': 2657, u'title': u'Rocky Horror Picture Show, The (1975)'}\n",
      "0.857333806157 3.0\n",
      "{u'genres': [u'Comedy', u'Crime', u'Drama'], u'movieId': 2973, u'title': u'Crimes and Misdemeanors (1989)'}\n",
      "0.85566293549 4.0\n",
      "{u'genres': [u'Adventure', u'Animation', u'Children', u'Comedy', u'Fantasy'], u'movieId': 3114, u'title': u'Toy Story 2 (1999)'}\n",
      "0.848831349411 4.0\n",
      "{u'genres': [u'Action', u'Drama'], u'movieId': 3020, u'title': u'Falling Down (1993)'}\n",
      "0.821894532929 1.0\n",
      "{u'genres': [u'Comedy', u'Romance'], u'movieId': 2671, u'title': u'Notting Hill (1999)'}\n",
      "0.818781128229 3.0\n",
      "{u'genres': [u'Comedy', u'Drama'], u'movieId': 2961, u'title': u'Story of Us, The (1999)'}\n",
      "0.807475055879 4.0\n",
      "{u'genres': [u'Comedy', u'Drama'], u'movieId': 3071, u'title': u'Stand and Deliver (1988)'}\n",
      "0.807475055879 4.0\n"
     ]
    }
   ],
   "source": [
    "preds_all_movies = lr2.predict_proba(X_test)[:, 1]\n",
    "#print preds_all_movies\n",
    "for test_idx in np.argsort(-preds_all_movies)[:25]:\n",
    "    idx = user_movie_idx_test[test_idx]\n",
    "    movie_id = IDX_TO_MOVIE_LOOKUP[idx]\n",
    "    print movies_data[str(movie_id)]\n",
    "    print preds_all_movies[test_idx], y_test[test_idx]"
   ]
  },
  {
   "cell_type": "code",
   "execution_count": null,
   "metadata": {
    "collapsed": true
   },
   "outputs": [],
   "source": []
  }
 ],
 "metadata": {
  "kernelspec": {
   "display_name": "Python 2",
   "language": "python",
   "name": "python2"
  },
  "language_info": {
   "codemirror_mode": {
    "name": "ipython",
    "version": 2
   },
   "file_extension": ".py",
   "mimetype": "text/x-python",
   "name": "python",
   "nbconvert_exporter": "python",
   "pygments_lexer": "ipython2",
   "version": "2.7.12"
  }
 },
 "nbformat": 4,
 "nbformat_minor": 2
}
